{
  "nbformat": 4,
  "nbformat_minor": 0,
  "metadata": {
    "colab": {
      "name": "projekt_ts.ipynb",
      "provenance": [],
      "include_colab_link": true
    },
    "kernelspec": {
      "name": "python3",
      "display_name": "Python 3"
    }
  },
  "cells": [
    {
      "cell_type": "markdown",
      "metadata": {
        "id": "view-in-github",
        "colab_type": "text"
      },
      "source": [
        "<a href=\"https://colab.research.google.com/github/marek-kolodziejczak98/ProjektTS2021/blob/main/projekt_ts.ipynb\" target=\"_parent\"><img src=\"https://colab.research.google.com/assets/colab-badge.svg\" alt=\"Open In Colab\"/></a>"
      ]
    },
    {
      "cell_type": "code",
      "metadata": {
        "id": "rbawCZw11VoG",
        "colab": {
          "base_uri": "https://localhost:8080/"
        },
        "outputId": "1f89c2f8-e6aa-40d9-8232-02d8fa030406"
      },
      "source": [
        "!pip install python-statemachine"
      ],
      "execution_count": 2,
      "outputs": [
        {
          "output_type": "stream",
          "text": [
            "Collecting python-statemachine\n",
            "  Downloading https://files.pythonhosted.org/packages/55/87/26556c71e3069dc443ffbed321b1a1534180b9c41fd153e1fb8b911030ab/python_statemachine-0.8.0-py2.py3-none-any.whl\n",
            "Installing collected packages: python-statemachine\n",
            "Successfully installed python-statemachine-0.8.0\n"
          ],
          "name": "stdout"
        }
      ]
    },
    {
      "cell_type": "code",
      "metadata": {
        "id": "5J8fX_hz0qqV"
      },
      "source": [
        "from statemachine import StateMachine, State\r\n",
        "import numpy as np\r\n",
        "import os\r\n",
        "from IPython.display import clear_output\r\n",
        "\r\n",
        "# deklaracja klasy\r\n",
        "class ShrinkWrapStation(StateMachine):\r\n",
        "    # stany\r\n",
        "    Station_empty = State('Stacja zgrzewająca pusta', initial=True)\r\n",
        "    Station_waiting = State('Stacja czeka na komplet butelek')\r\n",
        "    Station_ready = State('Stacja ma zestaw butelek')\r\n",
        "    Station_done = State('Stacja ma zgrzewkę')\r\n",
        "    # tranzycje\r\n",
        "    Bottle_detection = Station_empty.to(Station_waiting)\r\n",
        "    Bottle_set_detection = Station_waiting.to(Station_ready)\r\n",
        "    Bottle_wrapped = Station_ready.to(Station_done)\r\n",
        "    Pack_of_bottles_out = Station_done.to(Station_empty)\r\n",
        "\r\n",
        "\r\n",
        "class RobotSequence(StateMachine):\r\n",
        "    # stany\r\n",
        "    robot_in_base_position = State('Manipulator w pozycji bazowej', initial=True)\r\n",
        "    robot_ready = State('Manipulator w pozycji gotowej do pochwycenia')\r\n",
        "    robot_holding_beer = State('Manipulator trzymający butelkę')\r\n",
        "    robot_in_final_position = State('Manipulator w pozycji końcowej')\r\n",
        "    return_to_wrapping_process = State('Powrót do procesu zgrzewania')\r\n",
        "\r\n",
        "    # tranzycje\r\n",
        "    bottle_detection = robot_in_base_position.to(robot_ready)\r\n",
        "    bottle_grabbed = robot_ready.to(robot_holding_beer)\r\n",
        "    move_bottle = robot_holding_beer.to(robot_in_final_position)\r\n",
        "    return_to_the_base_pos = robot_in_final_position.to(return_to_wrapping_process)\r\n",
        "\r\n",
        "# stworzenie modelu\r\n",
        "Shrink_Wrap_Station = ShrinkWrapStation()\r\n",
        "# stworzenie wektorow zawierajacych nazwy stanow i tranzycji\r\n",
        "# stany tworzymy jako liste stringow, poniewaz kazdy stan ma swoja nazwe\r\n",
        "States = [\"Station_empty\", \"Station_waiting\", \"Station_ready\", \"Station_done\"]\r\n",
        "# tranzycje tworzymy jako liste stringow jesli jest jedna tranzycja, i list stringow jesli jest ich wiecej niz 1\r\n",
        "Transitions = [\"Bottle_detection\", (\"Bottle_set_detection\", \"Full_set_not_detected\"), \"Bottle_wrapped\", \"Pack_of_bottles_out\"]\r\n",
        "\r\n",
        "robot_sequence_model = RobotSequence()\r\n",
        "rStates = [\"Robot in base position\", \"Robot ready to grab a bottle\", \"Robot holding a bottle\", \"Robot in the final position\", \"Return to the wrapping process\"]\r\n",
        "rTransitions = [\"Bottle detection\", \"Bottle grabbed\", \"move bottle\", \"Return to the base position\"]"
      ],
      "execution_count": 3,
      "outputs": []
    },
    {
      "cell_type": "code",
      "metadata": {
        "colab": {
          "base_uri": "https://localhost:8080/"
        },
        "id": "EJywq42h-JAc",
        "outputId": "b4645a5e-93a0-43db-b604-ec0e63835533"
      },
      "source": [
        "# nieskonczona petla\r\n",
        "while True:\r\n",
        "    # pobranie identyfikatora aktualnego stanu\r\n",
        "    current_state = Shrink_Wrap_Station.current_state.identifier\r\n",
        "    # stworzenie pustej zmiennej do ktorej wczytane zostana dostepne dla aktualnego stanu tranzycje\r\n",
        "    current_transitions = []\r\n",
        "    # wyswietlenie nazwy aktualnego stanu\r\n",
        "    print(\"Current state: \"+str(Shrink_Wrap_Station.current_state.name))\r\n",
        "    # sprawdzenie dostepnych tranzycji dla obecnego stanu\r\n",
        "    for i in range(len(States)):\r\n",
        "        # robimy petle przechodzaca po wszystkich stanach\r\n",
        "        state = States[i]\r\n",
        "        # sprawdzamy czy sprawdzany stan jest rowny obecnemu stanowi\r\n",
        "        if state == current_state:\r\n",
        "            # ustawiamy aktualnie dostepne tranzycje z wektora tranzycji dzieki odpowiedniemu indeksowaniu\r\n",
        "            current_transitions = Transitions[i]\r\n",
        "            break\r\n",
        "    # wyswietlamy aktualnie dostepne tranzycje\r\n",
        "    print(\"\\nAvailable transitions: \")\r\n",
        "    print(\"0. Exit\")\r\n",
        "    # jesli jest tylko jedna tranzycja zmienna current_transitions jest stringiem, w przypadku wiekszej niz jednej tranzycji zmienna ta jest lista\r\n",
        "    # zamiast sprawdzac dlugosc tej zmiennej trzeba sprawdzic, czy jest ona stringiem, poniewaz dlugosc nie zwroci nam 1, tylko dlugosc stringa\r\n",
        "    if isinstance(current_transitions, str):\r\n",
        "        print(\"1. \"+current_transitions)\r\n",
        "    else:\r\n",
        "        # jesli current_transitions nie jest stringiem, to znaczy ze jest lista, wiec mozemy iterowac po wszystkich jej elementach\r\n",
        "        for i in range(len(current_transitions)):\r\n",
        "             print(str(i+1)+\". \"+current_transitions[i])\r\n",
        "    # prosimy uzytkownika o podanie liczby\r\n",
        "    decision = input(\"\\nPick transition: \")\r\n",
        "    if decision.isdigit() and int(decision) == 0:\r\n",
        "        break\r\n",
        "    # sprawdzamy ponownie czy dostepna jest jedna czy wiecej tranzycji\r\n",
        "    if isinstance(current_transitions, str) and decision.isdigit() and int(decision) == 1:\r\n",
        "        # deklarujemy funkcje tran() ktora pozwala wykorzystac nazwe zapisana w stringu(current_transitions) jako czesc funkcji\r\n",
        "        # w rezultacie tran() jest rownoznaczne Shrink_Wrap_Station.current_transitions, gdzie current_transitions to string z nazwa tranzycji\r\n",
        "        tran = getattr(Shrink_Wrap_Station, current_transitions)\r\n",
        "        tran()\r\n",
        "        clear_output()\r\n",
        "    elif  decision.isdigit() and not isinstance(current_transitions, str) and int(decision)<=len(current_transitions):\r\n",
        "        tran = getattr(Shrink_Wrap_Station, current_transitions[int(decision)-1])\r\n",
        "        tran()\r\n",
        "        clear_output()\r\n",
        "    else:\r\n",
        "        clear_output()\r\n",
        "        print(\"What you typed was wrong!\\n\")\r\n",
        "clear_output()\r\n",
        "print(\"Program zakończony poprawnie\")"
      ],
      "execution_count": null,
      "outputs": [
        {
          "output_type": "stream",
          "text": [
            "Program zakończony poprawnie\n"
          ],
          "name": "stdout"
        }
      ]
    }
  ]
}